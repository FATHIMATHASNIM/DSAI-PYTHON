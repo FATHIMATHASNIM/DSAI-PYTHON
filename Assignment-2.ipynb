{
 "cells": [
  {
   "cell_type": "code",
   "execution_count": 1,
   "metadata": {},
   "outputs": [
    {
     "name": "stdout",
     "output_type": "stream",
     "text": [
      "then the tuple is: (11, [222, 33], 44, 55)\n"
     ]
    }
   ],
   "source": [
    "#1)modify the first item(22)of a list inside the following tuple to 222?\n",
    "#tuple1=(11,[22,33],44,55)\n",
    "\n",
    "tuple1=(11,[22,33],44,55)\n",
    "tuple1[1][0]=222\n",
    "print(\"then the tuple is:\",tuple1)\n"
   ]
  },
  {
   "cell_type": "code",
   "execution_count": 5,
   "metadata": {},
   "outputs": [
    {
     "name": "stdout",
     "output_type": "stream",
     "text": [
      "the  number 50 is 2 times occure in the given tuple\n"
     ]
    }
   ],
   "source": [
    "#2)count the number of occurance of item 50 from a tuple?\n",
    "#tuple1=(50,10,60,70,50)\n",
    "\n",
    "tuple1=(50,10,60,70,50)\n",
    "t=0\n",
    "for i in tuple1:\n",
    "    if i==50:\n",
    "        t=t+1\n",
    "\t\n",
    "\t\n",
    "print(\"the  number 50 is\",t,\"times occure in the given tuple\")"
   ]
  },
  {
   "cell_type": "code",
   "execution_count": 7,
   "metadata": {},
   "outputs": [
    {
     "name": "stdout",
     "output_type": "stream",
     "text": [
      "the list to be converted : [1, 2, 3, 4, 12, 44]\n",
      "the converted tuple is (1, 2, 3, 4, 12, 44)\n"
     ]
    }
   ],
   "source": [
    "#3)write a python program to convert a list to tuple?\n",
    "\n",
    "list1=[1,2,3,4,12,44]\n",
    "print(\"the list to be converted :\",list1)\n",
    "tuple1=tuple(list1)\n",
    "print(\"the converted tuple is\",tuple1)"
   ]
  },
  {
   "cell_type": "code",
   "execution_count": 8,
   "metadata": {},
   "outputs": [
    {
     "name": "stdout",
     "output_type": "stream",
     "text": [
      "set : {70, 40, 10, 50, 20, 60, 30}\n"
     ]
    }
   ],
   "source": [
    "#4)returns a new set with all items from both sets by removing duplicate\n",
    "#set1={10,20,30,40,50}\n",
    "#set2={30,40,50,60,70}\n",
    "\n",
    "set1= {10,20,30,40,50}\n",
    "set2={30,40,50,60,70}\n",
    "set3=set1|set2\n",
    "print(\"set :\",set3)"
   ]
  },
  {
   "cell_type": "code",
   "execution_count": 9,
   "metadata": {},
   "outputs": [
    {
     "name": "stdout",
     "output_type": "stream",
     "text": [
      "dictionary after merging {'ten': 10, 'twenty': 20, 'thirty': 30, 'fourty': 40, 'fifty': 50}\n"
     ]
    }
   ],
   "source": [
    "#5)merge following two python dictionaries intp one?\n",
    "#dict1={'ten':10,'twenty':20,'thirty':30}\n",
    "#dict2={'thirty':30,'fourty':40,'fifty':50}\n",
    "\n",
    "dict1={'ten':10,'twenty':20,'thirty':30}\n",
    "dict2={'thirty':30,'fourty':40,'fifty':50}\n",
    "dict1.update(dict2)\n",
    "print(\"dictionary after merging\",dict1)"
   ]
  },
  {
   "cell_type": "code",
   "execution_count": 14,
   "metadata": {},
   "outputs": [
    {
     "name": "stdout",
     "output_type": "stream",
     "text": [
      "dictionary after update : {'em1': {'name': 'john', 'salary': 7500}, 'em2': {'name': 'emma', 'salary': 8000}, 'em3': {'name': 'brad', 'salary': 8500}}\n"
     ]
    }
   ],
   "source": [
    "\n",
    "#6)given a python dictionary change brad's salary to 8500\n",
    "#sampledict={\n",
    "#\t'em1':{'name':'john','salary':7500},\n",
    "#\t'em2':{'name':'emma','salary':8000},\n",
    "#\t'em3':{'name':'brad','salary':6500},\n",
    "#\t     }\n",
    "\n",
    "sampledict={\n",
    "    'em1':{'name':'john','salary':7500},\n",
    "\t'em2':{'name':'emma','salary':8000},\n",
    "\t'em3':{'name':'brad','salary':6500},\n",
    "}\n",
    "\n",
    "\t\n",
    "\t     \n",
    "sampledict['em3']['salary']=8500\n",
    "print(\"dictionary after update :\",sampledict)"
   ]
  },
  {
   "cell_type": "code",
   "execution_count": 18,
   "metadata": {},
   "outputs": [
    {
     "data": {
      "text/plain": [
       "{'name': 'kelly', 'age': 25, 'salary': 8000, 'location': 'New York'}"
      ]
     },
     "execution_count": 18,
     "metadata": {},
     "output_type": "execute_result"
    }
   ],
   "source": [
    "#7)rename key city to location in the following dictionary\n",
    "#sampledict={\"name\":\"kelly\",\n",
    "\t#      \"age\":25,\n",
    "\t #     \"salary\":8000,\n",
    "\t #     \"city\":New York\"\n",
    "\t#    }\n",
    "\n",
    "\n",
    "sampledict={\n",
    "    \"name\":\"kelly\",\n",
    "\t      \"age\":25,\n",
    "\t      \"salary\":8000,\n",
    "\t      \"city\":\"New York\"\n",
    "\t    }\n",
    "sampledict.pop(\"city\")\n",
    "sampledict\n",
    "sampledict[\"location\"]=\"New York\"\n",
    "sampledict"
   ]
  },
  {
   "cell_type": "code",
   "execution_count": null,
   "metadata": {},
   "outputs": [],
   "source": []
  }
 ],
 "metadata": {
  "kernelspec": {
   "display_name": "Python 3",
   "language": "python",
   "name": "python3"
  },
  "language_info": {
   "codemirror_mode": {
    "name": "ipython",
    "version": 3
   },
   "file_extension": ".py",
   "mimetype": "text/x-python",
   "name": "python",
   "nbconvert_exporter": "python",
   "pygments_lexer": "ipython3",
   "version": "3.8.3"
  }
 },
 "nbformat": 4,
 "nbformat_minor": 4
}
