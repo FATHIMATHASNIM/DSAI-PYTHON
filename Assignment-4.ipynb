{
 "cells": [
  {
   "cell_type": "code",
   "execution_count": 5,
   "metadata": {},
   "outputs": [
    {
     "name": "stdout",
     "output_type": "stream",
     "text": [
      "['firstline', 'second', 'third']\n"
     ]
    }
   ],
   "source": [
    "\"\"\"\"q1)create a txt file ,enter multiple lines of text.read this line by line and store it into a list.\n",
    "apply exception handling techniques\"\"\"\n",
    "try:\n",
    "    f=open(\"file1.txt\",'w')\n",
    "    f.write(\"\"\"firstline\\nsecond\\nthird\"\"\")\n",
    "    f.close()\n",
    "except:\n",
    "            print(\"error while creating file\")\n",
    "try:\n",
    "            lis=[]\n",
    "            fil1=open(\"file1.txt\",'r')\n",
    "            r=fil1.readlines()\n",
    "            for i in r:\n",
    "                lis.append(i.strip())\n",
    "            print(lis)\n",
    "except:\n",
    "            print(\"error while creating file\")\n",
    "    "
   ]
  },
  {
   "cell_type": "code",
   "execution_count": 20,
   "metadata": {},
   "outputs": [
    {
     "name": "stdout",
     "output_type": "stream",
     "text": [
      "Red\n",
      "Green\n",
      "White\n",
      "Black\n",
      "Pink\n",
      "Yellow\n",
      "\n"
     ]
    }
   ],
   "source": [
    "\"\"\"q2)write a python program to write below list content to a file .appy exception handling techniques.\n",
    "color = ['Red', 'Green', 'White', 'Black', 'Pink', 'Yellow']\"\"\"\n",
    "\n",
    "color = ['Red', 'Green', 'White', 'Black', 'Pink', 'Yellow']\n",
    "try:\n",
    "    file2=open(\"color.txt\",'w')\n",
    "    for i in color:\n",
    "        file2.write(i+\"\\n\")\n",
    "    file2.close()\n",
    "except:\n",
    "    print(\"unsuccessful\")\n",
    "try:\n",
    "    file2=open(\"color.txt\",'r')\n",
    "    cl=file2.read()\n",
    "    print(cl)\n",
    "    file2.close()\n",
    "except:\n",
    "    print(\"unsuccessful\")"
   ]
  },
  {
   "cell_type": "code",
   "execution_count": 31,
   "metadata": {},
   "outputs": [
    {
     "name": "stdout",
     "output_type": "stream",
     "text": [
      "['first line', 'second line', 'third line', '', 'last line']\n"
     ]
    }
   ],
   "source": [
    "\"\"\"\"Q3 : create a txt file, enter multiple lines of text.\n",
    "    remove newline characters from created file and print as a list.\n",
    "    Apply exception handling techniques wherever possible\"\"\"\n",
    "\n",
    "try:\n",
    "    files = open(\"file3.txt\",'w')\n",
    "    files.write(\"\"\"first line\\nsecond line\\nthird line\\n\\t\\t \\nlast line\"\"\")\n",
    "    files.close()\n",
    "except:\n",
    "    print(\"error while creating file\")\n",
    "try:\n",
    "    li = []\n",
    "    fi1 = open(\"file3.txt\",'r')\n",
    "    a = fi1.readlines()\n",
    "    for i in a:\n",
    "      li.append(i.strip())  \n",
    "    print(li)\n",
    "except:\n",
    "    print(\"error while reading file\")\n",
    "\n",
    "\n"
   ]
  },
  {
   "cell_type": "code",
   "execution_count": 34,
   "metadata": {},
   "outputs": [
    {
     "name": "stdout",
     "output_type": "stream",
     "text": [
      "MESCE KUTTIPPURAM\n",
      "MCA\n",
      "Fathima Thasnim\n"
     ]
    }
   ],
   "source": [
    "\"\"\"Q4 : create a testfile1.txt file, enter multiple lines of text . Now copy contents of testfile1.\n",
    "    txt to new file testfile22.txt. Apply exception handling techniques wherever possible\"\"\"\n",
    "try:\n",
    "    f1 = open(\"testfile1.txt\",'w')\n",
    "    f1.writelines(\"MESCE KUTTIPPURAM\\n\")\n",
    "    f1.writelines(\"MCA\\n\")\n",
    "    f1.writelines(\"Fathima Thasnim\")\n",
    "    f1.close()\n",
    "except:\n",
    "    print(\"Error while creating file\")\n",
    "try:\n",
    "    f1=open(\"testfile1.txt\",'r')\n",
    "    f2=open(\"testfile2.txt\",'w+')\n",
    "    f2.write(f1.read())\n",
    "    f1.close()\n",
    "    f2.close()\n",
    "except:\n",
    "    print(\"Error while copying file\")\n",
    "try:\n",
    "    f3 = open(\"testfile2.txt\",'r')\n",
    "    print(f3.read())\n",
    "except:\n",
    "    print(\"error while reading testfile2\")\n"
   ]
  },
  {
   "cell_type": "code",
   "execution_count": null,
   "metadata": {},
   "outputs": [],
   "source": []
  }
 ],
 "metadata": {
  "kernelspec": {
   "display_name": "Python 3",
   "language": "python",
   "name": "python3"
  },
  "language_info": {
   "codemirror_mode": {
    "name": "ipython",
    "version": 3
   },
   "file_extension": ".py",
   "mimetype": "text/x-python",
   "name": "python",
   "nbconvert_exporter": "python",
   "pygments_lexer": "ipython3",
   "version": "3.8.3"
  }
 },
 "nbformat": 4,
 "nbformat_minor": 4
}
