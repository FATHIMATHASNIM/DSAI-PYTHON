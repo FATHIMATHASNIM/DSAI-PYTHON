{
 "cells": [
  {
   "cell_type": "code",
   "execution_count": null,
   "metadata": {},
   "outputs": [],
   "source": [
    "#1. Input a string of odd length (minimum 9 characters), print a string made of the 3 middle characters from input string.\n",
    "mystr1=input((\"enter a string: \"))\n",
    "l=len(mystr1)\n",
    "mid=int(l/2)\n",
    "mystr1[mid-1:mid+2]"
   ]
  },
  {
   "cell_type": "code",
   "execution_count": 4,
   "metadata": {},
   "outputs": [
    {
     "name": "stdout",
     "output_type": "stream",
     "text": [
      "enter the value of n : 3\n",
      "1\n",
      "2\n",
      "3\n",
      "sum of n natural numbers is : 6\n",
      "average of the numbers :  2.0\n"
     ]
    }
   ],
   "source": [
    "#2.Calculate the sum and average of first n natural numbers \n",
    "#a. using for loop \n",
    "num=int(input((\"enter the value of n : \")))\n",
    "if num<0:\n",
    "    print(\"enter a positive number\")\n",
    "sum=0\n",
    "for i in range(1,num+1):\n",
    "    print(i,end =\"\\n\"  )\n",
    "    sum=sum+i\n",
    "print(\"sum of n natural numbers is :\",sum)\n",
    "print(\"average of the numbers : \",sum/num)\n"
   ]
  },
  {
   "cell_type": "code",
   "execution_count": 2,
   "metadata": {},
   "outputs": [
    {
     "name": "stdout",
     "output_type": "stream",
     "text": [
      "enter the value of number :4\n",
      "1\n",
      "2\n",
      "3\n",
      "4\n",
      "sum of numbers 10\n",
      "average of the numbers : 2.5\n"
     ]
    }
   ],
   "source": [
    "#b. using while loop\n",
    "number=int(input(\"enter the value of number :\"))\n",
    "if number<0:\n",
    "    print(\"enter a positive number\")\n",
    "sum=0\n",
    "i=1\n",
    "while(i<=number):\n",
    "    print(i,end =\"\\n\"  )\n",
    "    sum=sum+i\n",
    "    i=i+1\n",
    "print(\"sum of numbers\",sum)\n",
    "print(\"average of the numbers :\",sum/number)"
   ]
  },
  {
   "cell_type": "code",
   "execution_count": 2,
   "metadata": {},
   "outputs": [
    {
     "name": "stdout",
     "output_type": "stream",
     "text": [
      "enter a float number : 1 : 25\n",
      "enter a float number : 2 : 65\n",
      "enter a float number : 3 : 14.32\n",
      "enter a float number : 4 : 65.23\n",
      "enter a float number : 5 : 65.32\n",
      "[25.0, 65.0, 14.32, 65.23, 65.32]\n"
     ]
    }
   ],
   "source": [
    "#3. Accept list of 5 float numbers as input from user using loop and store values in a list\n",
    "lst=[]\n",
    "for i in range(0,5):\n",
    "    lst.append(float(input(\"enter a float number : \"+str(i+1)+\" : \")))\n",
    "print(lst)"
   ]
  },
  {
   "cell_type": "code",
   "execution_count": 20,
   "metadata": {},
   "outputs": [
    {
     "name": "stdout",
     "output_type": "stream",
     "text": [
      "\n",
      "\n",
      "b)\n",
      "\n",
      "1  \n",
      "1 2  \n",
      "1 2 3  \n",
      "1 2 3 4  \n",
      "1 2 3 4 5  \n",
      "\n",
      "\n",
      "b)\n",
      "\n",
      "5 4 3 2 1  \n",
      "4 3 2 1  \n",
      "3 2 1  \n",
      "2 1  \n",
      "1  \n",
      " \n"
     ]
    }
   ],
   "source": [
    "#4. Print the following pattern\n",
    "\"\"\"\n",
    "1\n",
    "1 2\n",
    "1 2 3\n",
    "1 2 3 4\n",
    "1 2 3 4 5\n",
    "\"\"\"\n",
    "print(\"\\n\\nb)\\n\")\n",
    "rows = 5\n",
    "for row in range(1, rows+1):\n",
    "    for column in range(1, row + 1):\n",
    "        print(column, end=' ')\n",
    "    print(\" \")\n",
    "\"\"\"\n",
    "5 4 3 2 1\n",
    "4 3 2 1\n",
    "3 2 1\n",
    "2 1 \n",
    "1\n",
    "\"\"\"\n",
    "print(\"\\n\\nb)\\n\")\n",
    "rows = 5\n",
    "for i in range(0, rows + 1):\n",
    "    for j in range(rows - i, 0, -1):\n",
    "        print(j, end=' ')\n",
    "    print(\" \")\n",
    "    "
   ]
  },
  {
   "cell_type": "code",
   "execution_count": null,
   "metadata": {},
   "outputs": [],
   "source": [
    "#input a number, count and print the total number of digits in that number using while loop\n",
    "nmbr=int(input(\"enter a number : \"))\n",
    "count=0\n",
    "while(nmbr):\n",
    "    count=count+1\n",
    "    nmbr=nmbr//10\n",
    "print(\"total digits in the number\" ,count)"
   ]
  },
  {
   "cell_type": "code",
   "execution_count": 2,
   "metadata": {},
   "outputs": [
    {
     "name": "stdout",
     "output_type": "stream",
     "text": [
      "[6, 12, 18, 4, 12, 20, 28]\n"
     ]
    }
   ],
   "source": [
    "#Given two lists. Create a third list by picking an odd-index element from the first list and even index elements from second.\n",
    "\"\"\"listOne = [3, 6, 9, 12, 15, 18, 21]\n",
    "listTwo = [4, 8, 12, 16, 20, 24, 28]\"\"\"\n",
    "listOne = [3, 6, 9, 12, 15, 18, 21]\n",
    "listTwo = [4, 8, 12, 16, 20, 24, 28]\n",
    "listThree=[]\n",
    "pick1=listOne[1::2]\n",
    "pick2=listTwo[::2]\n",
    "pick=pick1+pick2\n",
    "print(pick)"
   ]
  },
  {
   "cell_type": "code",
   "execution_count": null,
   "metadata": {},
   "outputs": [],
   "source": [
    "#program to get the smallest number from a list.\n",
    "lst=[]\n",
    "num = int(input(\"Please enter the Total Number of List Elements: \"))\n",
    "for i in range(1,num+1):\n",
    "    value = int(input(\"Please enter the Value of %d Element : \" %i))\n",
    "    lst.append(value)\n",
    "print(lst)\n",
    "small=lst[0]\n",
    "for j in range (num):\n",
    "    if j<small:\n",
    "        small=j\n",
    "print(\"smallest number in the list is : \",small)"
   ]
  },
  {
   "cell_type": "code",
   "execution_count": 1,
   "metadata": {},
   "outputs": [
    {
     "name": "stdout",
     "output_type": "stream",
     "text": [
      "[50, 4, 30, 20, 10]\n"
     ]
    }
   ],
   "source": [
    "#Reverse the following list using for loop and range  list1 = [10, 20, 30, 4, 50]\n",
    "list1 = [10, 20, 30, 4, 50]\n",
    "l=len(list1)\n",
    "for i in range (int(l/2)):\n",
    "    n=list1[i]\n",
    "    list1[i]=list1[l-i-1]\n",
    "    list1[l-i-1]=n\n",
    "print(list1)"
   ]
  },
  {
   "cell_type": "code",
   "execution_count": null,
   "metadata": {},
   "outputs": [],
   "source": []
  }
 ],
 "metadata": {
  "kernelspec": {
   "display_name": "Python 3",
   "language": "python",
   "name": "python3"
  },
  "language_info": {
   "codemirror_mode": {
    "name": "ipython",
    "version": 3
   },
   "file_extension": ".py",
   "mimetype": "text/x-python",
   "name": "python",
   "nbconvert_exporter": "python",
   "pygments_lexer": "ipython3",
   "version": "3.8.3"
  }
 },
 "nbformat": 4,
 "nbformat_minor": 4
}
