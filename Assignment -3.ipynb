{
 "cells": [
  {
   "cell_type": "code",
   "execution_count": 3,
   "metadata": {},
   "outputs": [
    {
     "name": "stdout",
     "output_type": "stream",
     "text": [
      "sum and difference of the number = (19, 11)\n"
     ]
    }
   ],
   "source": [
    "#q1)write a function calculate() such that it can accept two variables as arguments and calculate \n",
    "#the addition and subtraction of it.and also it must return both addition and subtraction ina single \n",
    "#return call\n",
    "\n",
    "def calculate(n1,n2):\n",
    "    sum=n1+n2\n",
    "    difr=n1-n2\n",
    "    return sum,difr\n",
    "\n",
    "sumdifr=calculate(15,4)\n",
    "print(\"sum and difference of the number =\",sumdifr)"
   ]
  },
  {
   "cell_type": "code",
   "execution_count": 4,
   "metadata": {},
   "outputs": [
    {
     "name": "stdout",
     "output_type": "stream",
     "text": [
      "Name: ben Salary: 9000\n",
      "Name: ben Salary: 9000\n"
     ]
    }
   ],
   "source": [
    "#q2)create a function showEmployee() such a way that it should accept employee name, and it's \n",
    "#salary and display both, and if the salary is missing in function call it should show it as 9000\n",
    "\n",
    "\n",
    "def showEmployee(name,salary=9000):\n",
    "    print(\"Name:\",name,\"Salary:\",salary)\n",
    "\n",
    "result1=showEmployee(\"ben\",9000)\n",
    "result2=showEmployee(\"ben\")"
   ]
  },
  {
   "cell_type": "code",
   "execution_count": 5,
   "metadata": {},
   "outputs": [
    {
     "name": "stdout",
     "output_type": "stream",
     "text": [
      "word is  awesome\n",
      "{'a': 1, 'w': 1, 'e': 1, 's': 1, 'o': 1, 'm': 1}\n"
     ]
    }
   ],
   "source": [
    "\n",
    "#q3)write a function called multipleLetterCount(). this function takes in one parameter \n",
    "#(a string) and returns a dictionary with the keys being the letters and the value being the count of the \n",
    "#letter.\n",
    "#expected output:\n",
    "#multipleLetterCount('awesome')\n",
    "\n",
    "dict={}\n",
    "def multipleLetterCount(s):\n",
    "    print(\"word is \",s)\n",
    "    for i in s:\n",
    "        if not i in dict:\n",
    "            dict[i]=1\n",
    "        else:\n",
    "            dict[i]+-1\n",
    "    return dict\n",
    "result=multipleLetterCount(\"awesome\")\n",
    "print(result)"
   ]
  },
  {
   "cell_type": "code",
   "execution_count": null,
   "metadata": {},
   "outputs": [],
   "source": []
  }
 ],
 "metadata": {
  "kernelspec": {
   "display_name": "Python 3",
   "language": "python",
   "name": "python3"
  },
  "language_info": {
   "codemirror_mode": {
    "name": "ipython",
    "version": 3
   },
   "file_extension": ".py",
   "mimetype": "text/x-python",
   "name": "python",
   "nbconvert_exporter": "python",
   "pygments_lexer": "ipython3",
   "version": "3.8.3"
  }
 },
 "nbformat": 4,
 "nbformat_minor": 4
}
